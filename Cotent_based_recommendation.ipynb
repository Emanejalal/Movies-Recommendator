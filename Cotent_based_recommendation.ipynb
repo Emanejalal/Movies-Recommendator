{
 "cells": [
  {
   "cell_type": "markdown",
   "id": "60542a6f",
   "metadata": {},
   "source": [
    "# Content-Based Recommender system usig tf-idf"
   ]
  },
  {
   "cell_type": "code",
   "execution_count": 1,
   "id": "ab2513c7",
   "metadata": {},
   "outputs": [],
   "source": [
    "import pandas as pd #tout ce qui est maths\n",
    "import numpy as np #gestion des fichiers\n",
    "import matplotlib.pyplot as plt #ce qui concerne les graphe\n",
    "\n"
   ]
  },
  {
   "cell_type": "code",
   "execution_count": 2,
   "id": "379f5454",
   "metadata": {},
   "outputs": [],
   "source": [
    "users = pd.read_csv('users.csv', sep='\\t', encoding = 'latin-1', usecols=['user_id', 'gender', 'zipcode', 'age_desc', 'occ_desc'])\n",
    "movies = pd.read_csv('movies.csv', sep='\\t', encoding = 'latin-1', usecols=['movie_id', 'title', 'genres'])\n",
    "ratings = pd.read_csv('ratings.csv', sep='\\t', encoding = 'latin-1', usecols=['user_id', 'movie_id', 'rating'])\n"
   ]
  },
  {
   "cell_type": "markdown",
   "id": "51d152c4",
   "metadata": {},
   "source": [
    "# Users Dataset"
   ]
  },
  {
   "cell_type": "code",
   "execution_count": 3,
   "id": "0f169527",
   "metadata": {},
   "outputs": [
    {
     "data": {
      "text/plain": [
       "(6040, 5)"
      ]
     },
     "execution_count": 3,
     "metadata": {},
     "output_type": "execute_result"
    }
   ],
   "source": [
    "users.shape"
   ]
  },
  {
   "cell_type": "code",
   "execution_count": 4,
   "id": "39088876",
   "metadata": {},
   "outputs": [
    {
     "name": "stdout",
     "output_type": "stream",
     "text": [
      "   user_id gender zipcode  age_desc              occ_desc\n",
      "0        1      F   48067  Under 18          K-12 student\n",
      "1        2      M   70072       56+         self-employed\n",
      "2        3      M   55117     25-34             scientist\n",
      "3        4      M   02460     45-49  executive/managerial\n",
      "4        5      M   55455     25-34                writer\n"
     ]
    }
   ],
   "source": [
    "#check the top 5 rows\n",
    "print(users.head())"
   ]
  },
  {
   "cell_type": "code",
   "execution_count": 5,
   "id": "884a5d5d",
   "metadata": {},
   "outputs": [
    {
     "data": {
      "text/html": [
       "<div>\n",
       "<style scoped>\n",
       "    .dataframe tbody tr th:only-of-type {\n",
       "        vertical-align: middle;\n",
       "    }\n",
       "\n",
       "    .dataframe tbody tr th {\n",
       "        vertical-align: top;\n",
       "    }\n",
       "\n",
       "    .dataframe thead th {\n",
       "        text-align: right;\n",
       "    }\n",
       "</style>\n",
       "<table border=\"1\" class=\"dataframe\">\n",
       "  <thead>\n",
       "    <tr style=\"text-align: right;\">\n",
       "      <th></th>\n",
       "      <th>user_id</th>\n",
       "      <th>gender</th>\n",
       "      <th>zipcode</th>\n",
       "      <th>age_desc</th>\n",
       "      <th>occ_desc</th>\n",
       "    </tr>\n",
       "  </thead>\n",
       "  <tbody>\n",
       "    <tr>\n",
       "      <th>4507</th>\n",
       "      <td>4508</td>\n",
       "      <td>M</td>\n",
       "      <td>15701</td>\n",
       "      <td>25-34</td>\n",
       "      <td>writer</td>\n",
       "    </tr>\n",
       "    <tr>\n",
       "      <th>1476</th>\n",
       "      <td>1477</td>\n",
       "      <td>F</td>\n",
       "      <td>90601</td>\n",
       "      <td>45-49</td>\n",
       "      <td>academic/educator</td>\n",
       "    </tr>\n",
       "    <tr>\n",
       "      <th>322</th>\n",
       "      <td>323</td>\n",
       "      <td>M</td>\n",
       "      <td>53716</td>\n",
       "      <td>45-49</td>\n",
       "      <td>programmer</td>\n",
       "    </tr>\n",
       "    <tr>\n",
       "      <th>419</th>\n",
       "      <td>420</td>\n",
       "      <td>M</td>\n",
       "      <td>55406</td>\n",
       "      <td>35-44</td>\n",
       "      <td>academic/educator</td>\n",
       "    </tr>\n",
       "    <tr>\n",
       "      <th>3165</th>\n",
       "      <td>3166</td>\n",
       "      <td>M</td>\n",
       "      <td>32607</td>\n",
       "      <td>18-24</td>\n",
       "      <td>college/grad student</td>\n",
       "    </tr>\n",
       "  </tbody>\n",
       "</table>\n",
       "</div>"
      ],
      "text/plain": [
       "      user_id gender zipcode age_desc              occ_desc\n",
       "4507     4508      M   15701    25-34                writer\n",
       "1476     1477      F   90601    45-49     academic/educator\n",
       "322       323      M   53716    45-49            programmer\n",
       "419       420      M   55406    35-44     academic/educator\n",
       "3165     3166      M   32607    18-24  college/grad student"
      ]
     },
     "execution_count": 5,
     "metadata": {},
     "output_type": "execute_result"
    }
   ],
   "source": [
    "users.sample(5)"
   ]
  },
  {
   "cell_type": "code",
   "execution_count": 6,
   "id": "1832dda5",
   "metadata": {},
   "outputs": [
    {
     "name": "stdout",
     "output_type": "stream",
     "text": [
      "<class 'pandas.core.frame.DataFrame'>\n",
      "RangeIndex: 6040 entries, 0 to 6039\n",
      "Data columns (total 5 columns):\n",
      " #   Column    Non-Null Count  Dtype \n",
      "---  ------    --------------  ----- \n",
      " 0   user_id   6040 non-null   int64 \n",
      " 1   gender    6040 non-null   object\n",
      " 2   zipcode   6040 non-null   object\n",
      " 3   age_desc  6040 non-null   object\n",
      " 4   occ_desc  6040 non-null   object\n",
      "dtypes: int64(1), object(4)\n",
      "memory usage: 236.1+ KB\n",
      "None\n"
     ]
    }
   ],
   "source": [
    "#check the file info\n",
    "print(users.info())"
   ]
  },
  {
   "cell_type": "markdown",
   "id": "0fe97c64",
   "metadata": {},
   "source": [
    "# Movies Dataset"
   ]
  },
  {
   "cell_type": "code",
   "execution_count": 7,
   "id": "02c052ca",
   "metadata": {},
   "outputs": [
    {
     "data": {
      "text/plain": [
       "(3883, 3)"
      ]
     },
     "execution_count": 7,
     "metadata": {},
     "output_type": "execute_result"
    }
   ],
   "source": [
    "movies.shape"
   ]
  },
  {
   "cell_type": "code",
   "execution_count": 8,
   "id": "03ac1a4e",
   "metadata": {},
   "outputs": [
    {
     "name": "stdout",
     "output_type": "stream",
     "text": [
      "   movie_id                               title                        genres\n",
      "0         1                    Toy Story (1995)   Animation|Children's|Comedy\n",
      "1         2                      Jumanji (1995)  Adventure|Children's|Fantasy\n",
      "2         3             Grumpier Old Men (1995)                Comedy|Romance\n",
      "3         4            Waiting to Exhale (1995)                  Comedy|Drama\n",
      "4         5  Father of the Bride Part II (1995)                        Comedy\n"
     ]
    }
   ],
   "source": [
    "#check the top 5 rows\n",
    "print(movies.head())"
   ]
  },
  {
   "cell_type": "code",
   "execution_count": 9,
   "id": "af2d4363",
   "metadata": {},
   "outputs": [
    {
     "data": {
      "text/html": [
       "<div>\n",
       "<style scoped>\n",
       "    .dataframe tbody tr th:only-of-type {\n",
       "        vertical-align: middle;\n",
       "    }\n",
       "\n",
       "    .dataframe tbody tr th {\n",
       "        vertical-align: top;\n",
       "    }\n",
       "\n",
       "    .dataframe thead th {\n",
       "        text-align: right;\n",
       "    }\n",
       "</style>\n",
       "<table border=\"1\" class=\"dataframe\">\n",
       "  <thead>\n",
       "    <tr style=\"text-align: right;\">\n",
       "      <th></th>\n",
       "      <th>movie_id</th>\n",
       "      <th>title</th>\n",
       "      <th>genres</th>\n",
       "    </tr>\n",
       "  </thead>\n",
       "  <tbody>\n",
       "    <tr>\n",
       "      <th>1716</th>\n",
       "      <td>1772</td>\n",
       "      <td>Blues Brothers 2000 (1998)</td>\n",
       "      <td>Action|Comedy|Musical</td>\n",
       "    </tr>\n",
       "    <tr>\n",
       "      <th>2306</th>\n",
       "      <td>2375</td>\n",
       "      <td>Money Pit, The (1986)</td>\n",
       "      <td>Comedy</td>\n",
       "    </tr>\n",
       "    <tr>\n",
       "      <th>2454</th>\n",
       "      <td>2523</td>\n",
       "      <td>Rollercoaster (1977)</td>\n",
       "      <td>Drama|Thriller</td>\n",
       "    </tr>\n",
       "    <tr>\n",
       "      <th>378</th>\n",
       "      <td>382</td>\n",
       "      <td>Wolf (1994)</td>\n",
       "      <td>Drama|Horror</td>\n",
       "    </tr>\n",
       "    <tr>\n",
       "      <th>2012</th>\n",
       "      <td>2081</td>\n",
       "      <td>Little Mermaid, The (1989)</td>\n",
       "      <td>Animation|Children's|Comedy|Musical|Romance</td>\n",
       "    </tr>\n",
       "  </tbody>\n",
       "</table>\n",
       "</div>"
      ],
      "text/plain": [
       "      movie_id                       title  \\\n",
       "1716      1772  Blues Brothers 2000 (1998)   \n",
       "2306      2375       Money Pit, The (1986)   \n",
       "2454      2523        Rollercoaster (1977)   \n",
       "378        382                 Wolf (1994)   \n",
       "2012      2081  Little Mermaid, The (1989)   \n",
       "\n",
       "                                           genres  \n",
       "1716                        Action|Comedy|Musical  \n",
       "2306                                       Comedy  \n",
       "2454                               Drama|Thriller  \n",
       "378                                  Drama|Horror  \n",
       "2012  Animation|Children's|Comedy|Musical|Romance  "
      ]
     },
     "execution_count": 9,
     "metadata": {},
     "output_type": "execute_result"
    }
   ],
   "source": [
    "movies.sample(5)"
   ]
  },
  {
   "cell_type": "code",
   "execution_count": 10,
   "id": "3222a224",
   "metadata": {},
   "outputs": [
    {
     "name": "stdout",
     "output_type": "stream",
     "text": [
      "<class 'pandas.core.frame.DataFrame'>\n",
      "RangeIndex: 3883 entries, 0 to 3882\n",
      "Data columns (total 3 columns):\n",
      " #   Column    Non-Null Count  Dtype \n",
      "---  ------    --------------  ----- \n",
      " 0   movie_id  3883 non-null   int64 \n",
      " 1   title     3883 non-null   object\n",
      " 2   genres    3883 non-null   object\n",
      "dtypes: int64(1), object(2)\n",
      "memory usage: 91.1+ KB\n",
      "None\n"
     ]
    }
   ],
   "source": [
    "#check the file info\n",
    "print(movies.info())"
   ]
  },
  {
   "cell_type": "markdown",
   "id": "62c03633",
   "metadata": {},
   "source": [
    "# Ratings Dataset"
   ]
  },
  {
   "cell_type": "code",
   "execution_count": 11,
   "id": "9a6bda1c",
   "metadata": {},
   "outputs": [
    {
     "data": {
      "text/plain": [
       "(1000209, 3)"
      ]
     },
     "execution_count": 11,
     "metadata": {},
     "output_type": "execute_result"
    }
   ],
   "source": [
    "ratings.shape"
   ]
  },
  {
   "cell_type": "code",
   "execution_count": 12,
   "id": "a1aef85a",
   "metadata": {},
   "outputs": [
    {
     "name": "stdout",
     "output_type": "stream",
     "text": [
      "   user_id  movie_id  rating\n",
      "0        1      1193       5\n",
      "1        1       661       3\n",
      "2        1       914       3\n",
      "3        1      3408       4\n",
      "4        1      2355       5\n"
     ]
    }
   ],
   "source": [
    "#check the top 5 rows\n",
    "print(ratings.head())"
   ]
  },
  {
   "cell_type": "code",
   "execution_count": 13,
   "id": "86cbb05b",
   "metadata": {},
   "outputs": [
    {
     "data": {
      "text/html": [
       "<div>\n",
       "<style scoped>\n",
       "    .dataframe tbody tr th:only-of-type {\n",
       "        vertical-align: middle;\n",
       "    }\n",
       "\n",
       "    .dataframe tbody tr th {\n",
       "        vertical-align: top;\n",
       "    }\n",
       "\n",
       "    .dataframe thead th {\n",
       "        text-align: right;\n",
       "    }\n",
       "</style>\n",
       "<table border=\"1\" class=\"dataframe\">\n",
       "  <thead>\n",
       "    <tr style=\"text-align: right;\">\n",
       "      <th></th>\n",
       "      <th>user_id</th>\n",
       "      <th>movie_id</th>\n",
       "      <th>rating</th>\n",
       "    </tr>\n",
       "  </thead>\n",
       "  <tbody>\n",
       "    <tr>\n",
       "      <th>559804</th>\n",
       "      <td>3441</td>\n",
       "      <td>2266</td>\n",
       "      <td>1</td>\n",
       "    </tr>\n",
       "    <tr>\n",
       "      <th>687930</th>\n",
       "      <td>4116</td>\n",
       "      <td>2064</td>\n",
       "      <td>3</td>\n",
       "    </tr>\n",
       "    <tr>\n",
       "      <th>531784</th>\n",
       "      <td>3283</td>\n",
       "      <td>32</td>\n",
       "      <td>4</td>\n",
       "    </tr>\n",
       "    <tr>\n",
       "      <th>210485</th>\n",
       "      <td>1285</td>\n",
       "      <td>3019</td>\n",
       "      <td>5</td>\n",
       "    </tr>\n",
       "    <tr>\n",
       "      <th>630655</th>\n",
       "      <td>3816</td>\n",
       "      <td>585</td>\n",
       "      <td>3</td>\n",
       "    </tr>\n",
       "  </tbody>\n",
       "</table>\n",
       "</div>"
      ],
      "text/plain": [
       "        user_id  movie_id  rating\n",
       "559804     3441      2266       1\n",
       "687930     4116      2064       3\n",
       "531784     3283        32       4\n",
       "210485     1285      3019       5\n",
       "630655     3816       585       3"
      ]
     },
     "execution_count": 13,
     "metadata": {},
     "output_type": "execute_result"
    }
   ],
   "source": [
    "ratings.sample(5)"
   ]
  },
  {
   "cell_type": "markdown",
   "id": "6e7daf8a",
   "metadata": {},
   "source": [
    "# Implementation "
   ]
  },
  {
   "cell_type": "markdown",
   "id": "80455e17",
   "metadata": {},
   "source": [
    "### Im going to build a Content based Recommendation Engine that computes similarity between movies based on movies genres. It will suggest movies that are most similar to a particular movie based on its genre. To do so, I will make use of the file movies.csv "
   ]
  },
  {
   "cell_type": "code",
   "execution_count": 14,
   "id": "48363692",
   "metadata": {},
   "outputs": [
    {
     "name": "stdout",
     "output_type": "stream",
     "text": [
      "0     [Animation, Children's, Comedy]\n",
      "1    [Adventure, Children's, Fantasy]\n",
      "2                   [Comedy, Romance]\n",
      "3                     [Comedy, Drama]\n",
      "4                            [Comedy]\n",
      "Name: genres, dtype: object\n",
      "0     ['Animation', \"Children's\", 'Comedy']\n",
      "1    ['Adventure', \"Children's\", 'Fantasy']\n",
      "2                     ['Comedy', 'Romance']\n",
      "3                       ['Comedy', 'Drama']\n",
      "4                                ['Comedy']\n",
      "Name: genres, dtype: object\n"
     ]
    }
   ],
   "source": [
    "# Break up the big genre string into a string array\n",
    "movies['genres'] = movies['genres'].str.split('|')\n",
    "print (movies['genres'].head())\n",
    "# Convert genres to string value\n",
    "movies[ 'genres' ] = movies['genres' ].fillna(\"\").astype('str')\n",
    "print (movies['genres'].head())"
   ]
  },
  {
   "cell_type": "code",
   "execution_count": 15,
   "id": "5102f7f5",
   "metadata": {},
   "outputs": [],
   "source": [
    "from sklearn.feature_extraction.text import TfidfVectorizer\n",
    "#from itertools import combinations"
   ]
  },
  {
   "cell_type": "code",
   "execution_count": 18,
   "id": "853c6447",
   "metadata": {},
   "outputs": [
    {
     "name": "stdout",
     "output_type": "stream",
     "text": [
      "(3883, 18)\n",
      "['action' 'adventure' 'animation' 'children' 'comedy' 'crime'\n",
      " 'documentary' 'drama' 'fantasy' 'film-noir' 'horror' 'musical' 'mystery'\n",
      " 'romance' 'sci-fi' 'thriller' 'war' 'western']\n"
     ]
    }
   ],
   "source": [
    "tf = TfidfVectorizer(analyzer='word', token_pattern=r\"(?u)\\b\\w[\\w-]*\\w\\b\", ngram_range=(1, 1), min_df=1, stop_words='english')\n",
    "tfidf_matrix = tf.fit_transform(movies['genres'])\n",
    "print(tfidf_matrix.shape)\n",
    "feature_names = tf.get_feature_names_out()\n",
    "print(feature_names)"
   ]
  },
  {
   "cell_type": "markdown",
   "id": "e6af757d",
   "metadata": {},
   "source": [
    "### To compute the cosine similar "
   ]
  },
  {
   "cell_type": "code",
   "execution_count": 19,
   "id": "ee378564",
   "metadata": {},
   "outputs": [
    {
     "name": "stdout",
     "output_type": "stream",
     "text": [
      "Shape: (3883, 3883)\n"
     ]
    },
    {
     "data": {
      "text/html": [
       "<div>\n",
       "<style scoped>\n",
       "    .dataframe tbody tr th:only-of-type {\n",
       "        vertical-align: middle;\n",
       "    }\n",
       "\n",
       "    .dataframe tbody tr th {\n",
       "        vertical-align: top;\n",
       "    }\n",
       "\n",
       "    .dataframe thead th {\n",
       "        text-align: right;\n",
       "    }\n",
       "</style>\n",
       "<table border=\"1\" class=\"dataframe\">\n",
       "  <thead>\n",
       "    <tr style=\"text-align: right;\">\n",
       "      <th>title</th>\n",
       "      <th>Boys Life 2 (1997)</th>\n",
       "      <th>Now and Then (1995)</th>\n",
       "      <th>Mask of Zorro, The (1998)</th>\n",
       "      <th>I Saw What You Did (1965)</th>\n",
       "      <th>Midnight Express (1978)</th>\n",
       "    </tr>\n",
       "    <tr>\n",
       "      <th>title</th>\n",
       "      <th></th>\n",
       "      <th></th>\n",
       "      <th></th>\n",
       "      <th></th>\n",
       "      <th></th>\n",
       "    </tr>\n",
       "  </thead>\n",
       "  <tbody>\n",
       "    <tr>\n",
       "      <th>Toy Story (1995)</th>\n",
       "      <td>0.00</td>\n",
       "      <td>0.00</td>\n",
       "      <td>0.00</td>\n",
       "      <td>0.00</td>\n",
       "      <td>0.00</td>\n",
       "    </tr>\n",
       "    <tr>\n",
       "      <th>Jumanji (1995)</th>\n",
       "      <td>0.00</td>\n",
       "      <td>0.00</td>\n",
       "      <td>0.32</td>\n",
       "      <td>0.00</td>\n",
       "      <td>0.00</td>\n",
       "    </tr>\n",
       "    <tr>\n",
       "      <th>Grumpier Old Men (1995)</th>\n",
       "      <td>0.00</td>\n",
       "      <td>0.00</td>\n",
       "      <td>0.45</td>\n",
       "      <td>0.00</td>\n",
       "      <td>0.00</td>\n",
       "    </tr>\n",
       "    <tr>\n",
       "      <th>Waiting to Exhale (1995)</th>\n",
       "      <td>0.66</td>\n",
       "      <td>0.66</td>\n",
       "      <td>0.00</td>\n",
       "      <td>0.00</td>\n",
       "      <td>0.66</td>\n",
       "    </tr>\n",
       "    <tr>\n",
       "      <th>Father of the Bride Part II (1995)</th>\n",
       "      <td>0.00</td>\n",
       "      <td>0.00</td>\n",
       "      <td>0.00</td>\n",
       "      <td>0.00</td>\n",
       "      <td>0.00</td>\n",
       "    </tr>\n",
       "    <tr>\n",
       "      <th>...</th>\n",
       "      <td>...</td>\n",
       "      <td>...</td>\n",
       "      <td>...</td>\n",
       "      <td>...</td>\n",
       "      <td>...</td>\n",
       "    </tr>\n",
       "    <tr>\n",
       "      <th>Meet the Parents (2000)</th>\n",
       "      <td>0.00</td>\n",
       "      <td>0.00</td>\n",
       "      <td>0.00</td>\n",
       "      <td>0.00</td>\n",
       "      <td>0.00</td>\n",
       "    </tr>\n",
       "    <tr>\n",
       "      <th>Requiem for a Dream (2000)</th>\n",
       "      <td>1.00</td>\n",
       "      <td>1.00</td>\n",
       "      <td>0.00</td>\n",
       "      <td>0.00</td>\n",
       "      <td>1.00</td>\n",
       "    </tr>\n",
       "    <tr>\n",
       "      <th>Tigerland (2000)</th>\n",
       "      <td>1.00</td>\n",
       "      <td>1.00</td>\n",
       "      <td>0.00</td>\n",
       "      <td>0.00</td>\n",
       "      <td>1.00</td>\n",
       "    </tr>\n",
       "    <tr>\n",
       "      <th>Two Family House (2000)</th>\n",
       "      <td>1.00</td>\n",
       "      <td>1.00</td>\n",
       "      <td>0.00</td>\n",
       "      <td>0.00</td>\n",
       "      <td>1.00</td>\n",
       "    </tr>\n",
       "    <tr>\n",
       "      <th>Contender, The (2000)</th>\n",
       "      <td>0.52</td>\n",
       "      <td>0.52</td>\n",
       "      <td>0.00</td>\n",
       "      <td>0.85</td>\n",
       "      <td>0.52</td>\n",
       "    </tr>\n",
       "  </tbody>\n",
       "</table>\n",
       "<p>3883 rows × 5 columns</p>\n",
       "</div>"
      ],
      "text/plain": [
       "title                               Boys Life 2 (1997)  Now and Then (1995)  \\\n",
       "title                                                                         \n",
       "Toy Story (1995)                                  0.00                 0.00   \n",
       "Jumanji (1995)                                    0.00                 0.00   \n",
       "Grumpier Old Men (1995)                           0.00                 0.00   \n",
       "Waiting to Exhale (1995)                          0.66                 0.66   \n",
       "Father of the Bride Part II (1995)                0.00                 0.00   \n",
       "...                                                ...                  ...   \n",
       "Meet the Parents (2000)                           0.00                 0.00   \n",
       "Requiem for a Dream (2000)                        1.00                 1.00   \n",
       "Tigerland (2000)                                  1.00                 1.00   \n",
       "Two Family House (2000)                           1.00                 1.00   \n",
       "Contender, The (2000)                             0.52                 0.52   \n",
       "\n",
       "title                               Mask of Zorro, The (1998)  \\\n",
       "title                                                           \n",
       "Toy Story (1995)                                         0.00   \n",
       "Jumanji (1995)                                           0.32   \n",
       "Grumpier Old Men (1995)                                  0.45   \n",
       "Waiting to Exhale (1995)                                 0.00   \n",
       "Father of the Bride Part II (1995)                       0.00   \n",
       "...                                                       ...   \n",
       "Meet the Parents (2000)                                  0.00   \n",
       "Requiem for a Dream (2000)                               0.00   \n",
       "Tigerland (2000)                                         0.00   \n",
       "Two Family House (2000)                                  0.00   \n",
       "Contender, The (2000)                                    0.00   \n",
       "\n",
       "title                               I Saw What You Did (1965)  \\\n",
       "title                                                           \n",
       "Toy Story (1995)                                         0.00   \n",
       "Jumanji (1995)                                           0.00   \n",
       "Grumpier Old Men (1995)                                  0.00   \n",
       "Waiting to Exhale (1995)                                 0.00   \n",
       "Father of the Bride Part II (1995)                       0.00   \n",
       "...                                                       ...   \n",
       "Meet the Parents (2000)                                  0.00   \n",
       "Requiem for a Dream (2000)                               0.00   \n",
       "Tigerland (2000)                                         0.00   \n",
       "Two Family House (2000)                                  0.00   \n",
       "Contender, The (2000)                                    0.85   \n",
       "\n",
       "title                               Midnight Express (1978)  \n",
       "title                                                        \n",
       "Toy Story (1995)                                       0.00  \n",
       "Jumanji (1995)                                         0.00  \n",
       "Grumpier Old Men (1995)                                0.00  \n",
       "Waiting to Exhale (1995)                               0.66  \n",
       "Father of the Bride Part II (1995)                     0.00  \n",
       "...                                                     ...  \n",
       "Meet the Parents (2000)                                0.00  \n",
       "Requiem for a Dream (2000)                             1.00  \n",
       "Tigerland (2000)                                       1.00  \n",
       "Two Family House (2000)                                1.00  \n",
       "Contender, The (2000)                                  0.52  \n",
       "\n",
       "[3883 rows x 5 columns]"
      ]
     },
     "execution_count": 19,
     "metadata": {},
     "output_type": "execute_result"
    }
   ],
   "source": [
    "from sklearn.metrics.pairwise import cosine_similarity\n",
    "\n",
    "cosine_sim = cosine_similarity(tfidf_matrix)\n",
    "cosine_sim_df = pd.DataFrame(cosine_sim, index = movies['title'], columns = movies['title'])\n",
    "print('Shape:', cosine_sim_df.shape)\n",
    "cosine_sim_df.sample(5, axis=1).round(2)"
   ]
  },
  {
   "cell_type": "code",
   "execution_count": 20,
   "id": "fe7c339c",
   "metadata": {},
   "outputs": [
    {
     "data": {
      "text/html": [
       "<div>\n",
       "<style scoped>\n",
       "    .dataframe tbody tr th:only-of-type {\n",
       "        vertical-align: middle;\n",
       "    }\n",
       "\n",
       "    .dataframe tbody tr th {\n",
       "        vertical-align: top;\n",
       "    }\n",
       "\n",
       "    .dataframe thead th {\n",
       "        text-align: right;\n",
       "    }\n",
       "</style>\n",
       "<table border=\"1\" class=\"dataframe\">\n",
       "  <thead>\n",
       "    <tr style=\"text-align: right;\">\n",
       "      <th></th>\n",
       "      <th>movie_id</th>\n",
       "      <th>title</th>\n",
       "      <th>genres</th>\n",
       "    </tr>\n",
       "  </thead>\n",
       "  <tbody>\n",
       "    <tr>\n",
       "      <th>912</th>\n",
       "      <td>924</td>\n",
       "      <td>2001: A Space Odyssey (1968)</td>\n",
       "      <td>['Drama', 'Mystery', 'Sci-Fi', 'Thriller']</td>\n",
       "    </tr>\n",
       "  </tbody>\n",
       "</table>\n",
       "</div>"
      ],
      "text/plain": [
       "     movie_id                         title  \\\n",
       "912       924  2001: A Space Odyssey (1968)   \n",
       "\n",
       "                                         genres  \n",
       "912  ['Drama', 'Mystery', 'Sci-Fi', 'Thriller']  "
      ]
     },
     "execution_count": 20,
     "metadata": {},
     "output_type": "execute_result"
    }
   ],
   "source": [
    "movies[movies.title.eq('2001: A Space Odyssey (1968)')]"
   ]
  },
  {
   "cell_type": "code",
   "execution_count": null,
   "id": "91aea0f2",
   "metadata": {},
   "outputs": [],
   "source": []
  },
  {
   "cell_type": "code",
   "execution_count": 21,
   "id": "0ba41fa9",
   "metadata": {},
   "outputs": [],
   "source": [
    "\n",
    "\n",
    "def genre_recommendations(i , M , items , k=10 ):\n",
    "    ix = M.loc[:,i].to_numpy().argpartition(range(-1,-k,-1))\n",
    "    closest = M.columns[ix[-1:-(k+2):-1]]\n",
    "    closest = closest.drop(i,errors = 'ignore')\n",
    "    return pd.DataFrame(closest).merge(items).head(k)\n"
   ]
  },
  {
   "cell_type": "code",
   "execution_count": 22,
   "id": "849c2067",
   "metadata": {},
   "outputs": [
    {
     "data": {
      "text/html": [
       "<div>\n",
       "<style scoped>\n",
       "    .dataframe tbody tr th:only-of-type {\n",
       "        vertical-align: middle;\n",
       "    }\n",
       "\n",
       "    .dataframe tbody tr th {\n",
       "        vertical-align: top;\n",
       "    }\n",
       "\n",
       "    .dataframe thead th {\n",
       "        text-align: right;\n",
       "    }\n",
       "</style>\n",
       "<table border=\"1\" class=\"dataframe\">\n",
       "  <thead>\n",
       "    <tr style=\"text-align: right;\">\n",
       "      <th></th>\n",
       "      <th>title</th>\n",
       "      <th>genres</th>\n",
       "    </tr>\n",
       "  </thead>\n",
       "  <tbody>\n",
       "    <tr>\n",
       "      <th>0</th>\n",
       "      <td>X-Files: Fight the Future, The (1998)</td>\n",
       "      <td>['Mystery', 'Sci-Fi', 'Thriller']</td>\n",
       "    </tr>\n",
       "    <tr>\n",
       "      <th>1</th>\n",
       "      <td>Event Horizon (1997)</td>\n",
       "      <td>['Action', 'Mystery', 'Sci-Fi', 'Thriller']</td>\n",
       "    </tr>\n",
       "    <tr>\n",
       "      <th>2</th>\n",
       "      <td>2010 (1984)</td>\n",
       "      <td>['Mystery', 'Sci-Fi']</td>\n",
       "    </tr>\n",
       "    <tr>\n",
       "      <th>3</th>\n",
       "      <td>Stalker (1979)</td>\n",
       "      <td>['Mystery', 'Sci-Fi']</td>\n",
       "    </tr>\n",
       "    <tr>\n",
       "      <th>4</th>\n",
       "      <td>Talented Mr. Ripley, The (1999)</td>\n",
       "      <td>['Drama', 'Mystery', 'Thriller']</td>\n",
       "    </tr>\n",
       "    <tr>\n",
       "      <th>5</th>\n",
       "      <td>Client, The (1994)</td>\n",
       "      <td>['Drama', 'Mystery', 'Thriller']</td>\n",
       "    </tr>\n",
       "    <tr>\n",
       "      <th>6</th>\n",
       "      <td>Absolute Power (1997)</td>\n",
       "      <td>['Mystery', 'Thriller']</td>\n",
       "    </tr>\n",
       "    <tr>\n",
       "      <th>7</th>\n",
       "      <td>Eyes of Laura Mars (1978)</td>\n",
       "      <td>['Mystery', 'Thriller']</td>\n",
       "    </tr>\n",
       "    <tr>\n",
       "      <th>8</th>\n",
       "      <td>Vertigo (1958)</td>\n",
       "      <td>['Mystery', 'Thriller']</td>\n",
       "    </tr>\n",
       "    <tr>\n",
       "      <th>9</th>\n",
       "      <td>Just Cause (1995)</td>\n",
       "      <td>['Mystery', 'Thriller']</td>\n",
       "    </tr>\n",
       "  </tbody>\n",
       "</table>\n",
       "</div>"
      ],
      "text/plain": [
       "                                   title  \\\n",
       "0  X-Files: Fight the Future, The (1998)   \n",
       "1                   Event Horizon (1997)   \n",
       "2                            2010 (1984)   \n",
       "3                         Stalker (1979)   \n",
       "4        Talented Mr. Ripley, The (1999)   \n",
       "5                     Client, The (1994)   \n",
       "6                  Absolute Power (1997)   \n",
       "7              Eyes of Laura Mars (1978)   \n",
       "8                         Vertigo (1958)   \n",
       "9                      Just Cause (1995)   \n",
       "\n",
       "                                        genres  \n",
       "0            ['Mystery', 'Sci-Fi', 'Thriller']  \n",
       "1  ['Action', 'Mystery', 'Sci-Fi', 'Thriller']  \n",
       "2                        ['Mystery', 'Sci-Fi']  \n",
       "3                        ['Mystery', 'Sci-Fi']  \n",
       "4             ['Drama', 'Mystery', 'Thriller']  \n",
       "5             ['Drama', 'Mystery', 'Thriller']  \n",
       "6                      ['Mystery', 'Thriller']  \n",
       "7                      ['Mystery', 'Thriller']  \n",
       "8                      ['Mystery', 'Thriller']  \n",
       "9                      ['Mystery', 'Thriller']  "
      ]
     },
     "execution_count": 22,
     "metadata": {},
     "output_type": "execute_result"
    }
   ],
   "source": [
    "genre_recommendations('2001: A Space Odyssey (1968)', cosine_sim_df, movies[['title', 'genres']])"
   ]
  },
  {
   "cell_type": "code",
   "execution_count": 23,
   "id": "02d615ef",
   "metadata": {},
   "outputs": [
    {
     "data": {
      "text/html": [
       "<div>\n",
       "<style scoped>\n",
       "    .dataframe tbody tr th:only-of-type {\n",
       "        vertical-align: middle;\n",
       "    }\n",
       "\n",
       "    .dataframe tbody tr th {\n",
       "        vertical-align: top;\n",
       "    }\n",
       "\n",
       "    .dataframe thead th {\n",
       "        text-align: right;\n",
       "    }\n",
       "</style>\n",
       "<table border=\"1\" class=\"dataframe\">\n",
       "  <thead>\n",
       "    <tr style=\"text-align: right;\">\n",
       "      <th></th>\n",
       "      <th>movie_id</th>\n",
       "      <th>title</th>\n",
       "      <th>genres</th>\n",
       "    </tr>\n",
       "  </thead>\n",
       "  <tbody>\n",
       "    <tr>\n",
       "      <th>1543</th>\n",
       "      <td>1584</td>\n",
       "      <td>Contact (1997)</td>\n",
       "      <td>['Drama', 'Sci-Fi']</td>\n",
       "    </tr>\n",
       "  </tbody>\n",
       "</table>\n",
       "</div>"
      ],
      "text/plain": [
       "      movie_id           title               genres\n",
       "1543      1584  Contact (1997)  ['Drama', 'Sci-Fi']"
      ]
     },
     "execution_count": 23,
     "metadata": {},
     "output_type": "execute_result"
    }
   ],
   "source": [
    "movies[movies.title.eq('Contact (1997)')]"
   ]
  },
  {
   "cell_type": "code",
   "execution_count": 24,
   "id": "df601462",
   "metadata": {},
   "outputs": [
    {
     "data": {
      "text/html": [
       "<div>\n",
       "<style scoped>\n",
       "    .dataframe tbody tr th:only-of-type {\n",
       "        vertical-align: middle;\n",
       "    }\n",
       "\n",
       "    .dataframe tbody tr th {\n",
       "        vertical-align: top;\n",
       "    }\n",
       "\n",
       "    .dataframe thead th {\n",
       "        text-align: right;\n",
       "    }\n",
       "</style>\n",
       "<table border=\"1\" class=\"dataframe\">\n",
       "  <thead>\n",
       "    <tr style=\"text-align: right;\">\n",
       "      <th></th>\n",
       "      <th>title</th>\n",
       "      <th>genres</th>\n",
       "    </tr>\n",
       "  </thead>\n",
       "  <tbody>\n",
       "    <tr>\n",
       "      <th>0</th>\n",
       "      <td>Nineteen Eighty-Four (1984)</td>\n",
       "      <td>['Drama', 'Sci-Fi']</td>\n",
       "    </tr>\n",
       "    <tr>\n",
       "      <th>1</th>\n",
       "      <td>Until the End of the World (Bis ans Ende der W...</td>\n",
       "      <td>['Drama', 'Sci-Fi']</td>\n",
       "    </tr>\n",
       "    <tr>\n",
       "      <th>2</th>\n",
       "      <td>Close Encounters of the Third Kind (1977)</td>\n",
       "      <td>['Drama', 'Sci-Fi']</td>\n",
       "    </tr>\n",
       "    <tr>\n",
       "      <th>3</th>\n",
       "      <td>Goodbye, 20th Century (Zbogum na dvadesetiot v...</td>\n",
       "      <td>['Drama', 'Sci-Fi']</td>\n",
       "    </tr>\n",
       "    <tr>\n",
       "      <th>4</th>\n",
       "      <td>Solaris (Solyaris) (1972)</td>\n",
       "      <td>['Drama', 'Sci-Fi']</td>\n",
       "    </tr>\n",
       "    <tr>\n",
       "      <th>5</th>\n",
       "      <td>Powder (1995)</td>\n",
       "      <td>['Drama', 'Sci-Fi']</td>\n",
       "    </tr>\n",
       "    <tr>\n",
       "      <th>6</th>\n",
       "      <td>Brother from Another Planet, The (1984)</td>\n",
       "      <td>['Drama', 'Sci-Fi']</td>\n",
       "    </tr>\n",
       "    <tr>\n",
       "      <th>7</th>\n",
       "      <td>Conceiving Ada (1997)</td>\n",
       "      <td>['Drama', 'Sci-Fi']</td>\n",
       "    </tr>\n",
       "    <tr>\n",
       "      <th>8</th>\n",
       "      <td>Day the Earth Stood Still, The (1951)</td>\n",
       "      <td>['Drama', 'Sci-Fi']</td>\n",
       "    </tr>\n",
       "    <tr>\n",
       "      <th>9</th>\n",
       "      <td>Twelve Monkeys (1995)</td>\n",
       "      <td>['Drama', 'Sci-Fi']</td>\n",
       "    </tr>\n",
       "  </tbody>\n",
       "</table>\n",
       "</div>"
      ],
      "text/plain": [
       "                                               title               genres\n",
       "0                        Nineteen Eighty-Four (1984)  ['Drama', 'Sci-Fi']\n",
       "1  Until the End of the World (Bis ans Ende der W...  ['Drama', 'Sci-Fi']\n",
       "2          Close Encounters of the Third Kind (1977)  ['Drama', 'Sci-Fi']\n",
       "3  Goodbye, 20th Century (Zbogum na dvadesetiot v...  ['Drama', 'Sci-Fi']\n",
       "4                          Solaris (Solyaris) (1972)  ['Drama', 'Sci-Fi']\n",
       "5                                      Powder (1995)  ['Drama', 'Sci-Fi']\n",
       "6            Brother from Another Planet, The (1984)  ['Drama', 'Sci-Fi']\n",
       "7                              Conceiving Ada (1997)  ['Drama', 'Sci-Fi']\n",
       "8              Day the Earth Stood Still, The (1951)  ['Drama', 'Sci-Fi']\n",
       "9                              Twelve Monkeys (1995)  ['Drama', 'Sci-Fi']"
      ]
     },
     "execution_count": 24,
     "metadata": {},
     "output_type": "execute_result"
    }
   ],
   "source": [
    "genre_recommendations('Contact (1997)', cosine_sim_df, movies[['title', 'genres']])"
   ]
  },
  {
   "cell_type": "code",
   "execution_count": null,
   "id": "d38504e4",
   "metadata": {},
   "outputs": [],
   "source": []
  }
 ],
 "metadata": {
  "kernelspec": {
   "display_name": "Python 3 (ipykernel)",
   "language": "python",
   "name": "python3"
  },
  "language_info": {
   "codemirror_mode": {
    "name": "ipython",
    "version": 3
   },
   "file_extension": ".py",
   "mimetype": "text/x-python",
   "name": "python",
   "nbconvert_exporter": "python",
   "pygments_lexer": "ipython3",
   "version": "3.11.4"
  }
 },
 "nbformat": 4,
 "nbformat_minor": 5
}
